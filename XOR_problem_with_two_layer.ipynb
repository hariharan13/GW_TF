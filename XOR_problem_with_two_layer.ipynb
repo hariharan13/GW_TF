{
 "cells": [
  {
   "cell_type": "markdown",
   "metadata": {},
   "source": [
    "Two layer neuron for XOR problem "
   ]
  },
  {
   "cell_type": "code",
   "execution_count": null,
   "metadata": {},
   "outputs": [],
   "source": [
    "#import libraries\n",
    "import tensorflow as tf\n",
    "import numpy as np\n",
    "import matplotlib.pyplot as plt \n",
    "\n",
    "\n"
   ]
  },
  {
   "cell_type": "code",
   "execution_count": null,
   "metadata": {},
   "outputs": [],
   "source": [
    "#create data set\n",
    "F=0\n",
    "T=1\n",
    "def get_xor_data():\n",
    "    x=[[F,F],[F,T],[T,F],[T,T]]\n",
    "    y=[[0],[1],[1],[0]]\n",
    "    return x,y\n"
   ]
  },
  {
   "cell_type": "code",
   "execution_count": null,
   "metadata": {},
   "outputs": [],
   "source": [
    "x_train,y_train=get_xor_data()"
   ]
  },
  {
   "cell_type": "code",
   "execution_count": null,
   "metadata": {},
   "outputs": [],
   "source": [
    "#create placeholder\n",
    "X=tf.placeholder(tf.float32,[None,2])\n",
    "Y=tf.placeholder(tf.float32,[None,1])\n"
   ]
  },
  {
   "cell_type": "code",
   "execution_count": null,
   "metadata": {},
   "outputs": [],
   "source": [
    "#create model\n",
    "#model has two layer\n",
    "#layer one has two neuron \n",
    "#layer two has single nuron \n",
    "#this network has one hidden and one output layer\n",
    "\n",
    "#loss=tf.reduce_mean(tf.square(tf.subtract(Y,output)))--Cross entropy\n",
    "loss = tf.reduce_mean(-1*((Y*tf.log(Y_hat))+((1-Y)*tf.log(1.0-Y_hat))))\n",
    "optimizer=tf.train.GradientDescentOptimizer(0.05)\n",
    "train=optimizer.minimize(loss)"
   ]
  },
  {
   "cell_type": "code",
   "execution_count": null,
   "metadata": {},
   "outputs": [],
   "source": [
    "with tf.Session() as sess:\n",
    "    sess.run(tf.global_variables_initializer())\n",
    "    print(\"the training data\",str(x_train))\n",
    "          \n",
    "    for i in range(20000) :\n",
    "          \n",
    "          sess.run(train,feed_dict={X:x_train,Y:y_train})\n",
    "          if i%5000==0:\n",
    "              print(\"the number of epoch:\",i,\"error rate:\",sess.run(loss,feed_dict={X:x_train,Y:y_train}))\n",
    "          \n",
    "    print(\"final output\\n\",sess.run(Y_hat,feed_dict={X:x_train,Y:y_train}))\n",
    "    \n",
    "    "
   ]
  },
  {
   "cell_type": "code",
   "execution_count": null,
   "metadata": {},
   "outputs": [],
   "source": []
  },
  {
   "cell_type": "code",
   "execution_count": null,
   "metadata": {},
   "outputs": [],
   "source": []
  },
  {
   "cell_type": "code",
   "execution_count": null,
   "metadata": {},
   "outputs": [],
   "source": []
  },
  {
   "cell_type": "code",
   "execution_count": null,
   "metadata": {},
   "outputs": [],
   "source": []
  },
  {
   "cell_type": "code",
   "execution_count": null,
   "metadata": {},
   "outputs": [],
   "source": []
  },
  {
   "cell_type": "code",
   "execution_count": null,
   "metadata": {},
   "outputs": [],
   "source": []
  },
  {
   "cell_type": "code",
   "execution_count": null,
   "metadata": {},
   "outputs": [],
   "source": []
  }
 ],
 "metadata": {
  "kernelspec": {
   "display_name": "Python 3",
   "language": "python",
   "name": "python3"
  },
  "language_info": {
   "codemirror_mode": {
    "name": "ipython",
    "version": 3
   },
   "file_extension": ".py",
   "mimetype": "text/x-python",
   "name": "python",
   "nbconvert_exporter": "python",
   "pygments_lexer": "ipython3",
   "version": "3.6.5"
  }
 },
 "nbformat": 4,
 "nbformat_minor": 2
}
