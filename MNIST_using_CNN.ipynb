{
 "cells": [
  {
   "cell_type": "markdown",
   "metadata": {},
   "source": [
    "# CNN "
   ]
  },
  {
   "cell_type": "code",
   "execution_count": null,
   "metadata": {},
   "outputs": [],
   "source": [
    "#import libraries\n",
    "import matplotlib.pyplot as plt\n",
    "import tensorflow as tf\n",
    "import numpy as np\n",
    "from sklearn.metrics import confusion_matrix\n",
    "import time\n",
    "from datetime import timedelta\n",
    "import math"
   ]
  },
  {
   "cell_type": "code",
   "execution_count": 2,
   "metadata": {},
   "outputs": [],
   "source": [
    "#load data\n",
    "(x_train,y_train),(x_test,y_test)=tf.keras.datasets.mnist.load_data()"
   ]
  },
  {
   "cell_type": "code",
   "execution_count": 3,
   "metadata": {},
   "outputs": [],
   "source": [
    "#helper function to plot images\n",
    "def plot_images(images, cls_true, cls_pred=None):\n",
    "    assert len(images) == len(cls_true) == 9\n",
    "    \n",
    "    # Create figure with 3x3 sub-plots.\n",
    "    fig, axes = plt.subplots(3, 3)\n",
    "    fig.subplots_adjust(hspace=0.3, wspace=0.3)\n",
    "\n",
    "    for i, ax in enumerate(axes.flat):\n",
    "        # Plot image.\n",
    "        ax.imshow(images[i].reshape(28,28), cmap='binary')\n",
    "\n",
    "        # Show true and predicted classes.\n",
    "        if cls_pred is None:\n",
    "            xlabel = \"True: {0}\".format(cls_true[i])\n",
    "        else:\n",
    "            xlabel = \"True: {0}, Pred: {1}\".format(cls_true[i], cls_pred[i])\n",
    "\n",
    "        # Show the classes as the label on the x-axis.\n",
    "        ax.set_xlabel(xlabel)\n",
    "        \n",
    "        # Remove ticks from the plot.\n",
    "        ax.set_xticks([])\n",
    "        ax.set_yticks([])\n",
    "    \n",
    "    # Ensure the plot is shown correctly with multiple plots\n",
    "    # in a single Notebook cell.\n",
    "    plt.show()"
   ]
  },
  {
   "cell_type": "code",
   "execution_count": 4,
   "metadata": {},
   "outputs": [
    {
     "data": {
      "image/png": "[encoded data removed]",
      "text/plain": [
       "<Figure size 432x288 with 9 Axes>"
      ]
     },
     "metadata": {},
     "output_type": "display_data"
    }
   ],
   "source": [
    "images = x_test[0:9]\n",
    "\n",
    "# Get the true classes for those images.\n",
    "cls_true = y_test[0:9]\n",
    "\n",
    "# Plot the images and labels using our helper-function above.\n",
    "plot_images(images=images, cls_true=cls_true)"
   ]
  },
  {
   "cell_type": "code",
   "execution_count": null,
   "metadata": {},
   "outputs": [],
   "source": []
  },
  {
   "cell_type": "code",
   "execution_count": 5,
   "metadata": {},
   "outputs": [
    {
     "data": {
      "image/png": "[encoded data removed]",
      "text/plain": [
       "<Figure size 432x288 with 2 Axes>"
      ]
     },
     "metadata": {
      "needs_background": "light"
     },
     "output_type": "display_data"
    }
   ],
   "source": [
    "#plt.figure()\n",
    "plt.imshow(x_train[100])\n",
    "plt.colorbar()\n",
    "plt.show()"
   ]
  },
  {
   "cell_type": "code",
   "execution_count": 6,
   "metadata": {},
   "outputs": [],
   "source": [
    "#split data into train,test,val\n",
    "x_val=x_train[50000:60000]\n",
    "x_train=x_train[:50000]\n",
    "y_val=y_train[50000:60000]\n",
    "y_train=y_train[:50000]"
   ]
  },
  {
   "cell_type": "code",
   "execution_count": 7,
   "metadata": {},
   "outputs": [],
   "source": [
    "#reshape the data\n",
    "x_train=np.reshape(x_train,(50000))#28x28x1\n",
    "x_val=np.reshape(x_val,(10000))\n",
    "x_test=np.reshape(x_test,(10000))"
   ]
  },
  {
   "cell_type": "code",
   "execution_count": 8,
   "metadata": {},
   "outputs": [],
   "source": [
    "#one hot encoding\n",
    "num_classes=10\n",
    "y_train=tf.keras.utils.to_categorical(y_train,num_classes)\n",
    "y_val=tf.keras.utils.to_categorical(y_val,num_classes)\n",
    "y_test=tf.keras.utils.to_categorical(y_test,num_classes)"
   ]
  },
  {
   "cell_type": "code",
   "execution_count": 30,
   "metadata": {},
   "outputs": [],
   "source": []
  },
  {
   "cell_type": "code",
   "execution_count": 9,
   "metadata": {},
   "outputs": [],
   "source": [
    "#Normalize the data\n",
    "x_train=x_train.astype(\"float\")\n",
    "x_val=x_val.astype(\"float\")\n",
    "x_test=x_test.astype(\"float\")"
   ]
  },
  {
   "cell_type": "code",
   "execution_count": 10,
   "metadata": {},
   "outputs": [],
   "source": [
    "x_train/=255\n",
    "x_val/=255\n",
    "x_test/=255\n"
   ]
  },
  {
   "cell_type": "code",
   "execution_count": 11,
   "metadata": {},
   "outputs": [],
   "source": [
    "#create placeholder\n",
    "X=tf.placeholder(tf.float32,[None])#28x28x1\n",
    "Y=tf.placeholder(tf.float32,[None,10])"
   ]
  },
  {
   "cell_type": "code",
   "execution_count": 12,
   "metadata": {},
   "outputs": [],
   "source": [
    "def weight_variable(shape):\n",
    "    initial=(tf.truncated_normal(shape,stddev=0.1))\n",
    "    return tf.Variable(initial)"
   ]
  },
  {
   "cell_type": "code",
   "execution_count": 13,
   "metadata": {},
   "outputs": [],
   "source": [
    "def bias_variable(shape):\n",
    "    initial=tf.constant(0.1,shape=shape)\n",
    "    return tf.Variable(initial)"
   ]
  },
  {
   "cell_type": "code",
   "execution_count": 14,
   "metadata": {},
   "outputs": [],
   "source": [
    "def conv2d(X,w):\n",
    "    return                          # tf.nn.conv2d(X,w,strides=[1,1,1,1],padding='SAME')"
   ]
  },
  {
   "cell_type": "code",
   "execution_count": 15,
   "metadata": {},
   "outputs": [],
   "source": [
    "def maxpool_2x(X):\n",
    "    return                             # tf.nn.max_pool(X,ksize=[1,2,2,1],strides=[1,2,2,1],padding='SAME')"
   ]
  },
  {
   "cell_type": "code",
   "execution_count": 16,
   "metadata": {},
   "outputs": [],
   "source": [
    "#model building \n",
    "w_conv1=weight_variable([])#dim of filter,input channel,number of filters\n",
    "b_conv1=bias_variable([])\n",
    "h_conv1=conv2d(X,w_conv1)"
   ]
  },
  {
   "cell_type": "code",
   "execution_count": 17,
   "metadata": {},
   "outputs": [],
   "source": [
    "b1_add=tf.add(h_conv1,b_conv1)\n",
    "h_conv1_a=tf.nn.relu(b1_add)\n",
    "max_pool1=maxpool_2x(h_conv1_a)"
   ]
  },
  {
   "cell_type": "code",
   "execution_count": 18,
   "metadata": {},
   "outputs": [],
   "source": [
    "w_conv2=weight_variable([])#dim of filter,input channel,number of filters\n",
    "b_conv2=bias_variable([])\n",
    "h2_conv2=tf.nn.relu(conv2d(max_pool1,w_conv2)+b_conv2)\n",
    "max_pool2=maxpool_2x(h2_conv2)"
   ]
  },
  {
   "cell_type": "code",
   "execution_count": 19,
   "metadata": {},
   "outputs": [],
   "source": [
    "w_fc1=weight_variable([7*7*32,128])#input max_pool2 layer input ;number of neurons\n",
    "bias_fc1=bias_variable([128])\n",
    "max_pool2_flatten=tf.reshape(max_pool2,[-1,7*7*32])"
   ]
  },
  {
   "cell_type": "code",
   "execution_count": 20,
   "metadata": {},
   "outputs": [],
   "source": [
    "h_fc1=tf.nn.relu((tf.matmul(max_pool2_flatten,w_fc1)+bias_fc1))"
   ]
  },
  {
   "cell_type": "code",
   "execution_count": 21,
   "metadata": {},
   "outputs": [],
   "source": [
    "w_fc2=weight_variable([128,10])\n",
    "bias_fc2=bias_variable([10])"
   ]
  },
  {
   "cell_type": "code",
   "execution_count": 22,
   "metadata": {},
   "outputs": [],
   "source": [
    "h_fc2=tf.matmul(h_fc1,w_fc2)+bias_fc2"
   ]
  },
  {
   "cell_type": "code",
   "execution_count": 23,
   "metadata": {},
   "outputs": [],
   "source": [
    "loss_op=tf.reduce_mean(tf.nn.softmax_cross_entropy_with_logits_v2(logits=h_fc2,labels=Y))\n",
    "train_op=tf.train.AdamOptimizer(learning_rate=0.01).minimize(loss_op)"
   ]
  },
  {
   "cell_type": "code",
   "execution_count": 24,
   "metadata": {},
   "outputs": [],
   "source": [
    "init=tf.global_variables_initializer()"
   ]
  },
  {
   "cell_type": "code",
   "execution_count": 28,
   "metadata": {},
   "outputs": [],
   "source": [
    "epoch_cnt=1\n",
    "batch_size=1000\n",
    "iteration=len(x_train)//batch_size"
   ]
  },
  {
   "cell_type": "code",
   "execution_count": 31,
   "metadata": {},
   "outputs": [
    {
     "name": "stdout",
     "output_type": "stream",
     "text": [
      "iteration:   0  training acc:  0.084\n",
      "iteration:   10  training acc:  0.585\n",
      "iteration:   20  training acc:  0.779\n",
      "iteration:   30  training acc:  0.843\n",
      "iteration:   40  training acc:  0.913\n",
      "validation_acc:  0.9343\n",
      "Test accuracy:  0.9355\n"
     ]
    }
   ],
   "source": [
    "with tf.Session() as sess:\n",
    "    sess.run(init)\n",
    "    for epoch in range(epoch_cnt):\n",
    "        start=0\n",
    "        end=batch_size\n",
    "        avg_loss=0\n",
    "        for i in range(iteration):\n",
    "            pred=tf.nn.softmax(h_fc2)\n",
    "            correct_pred=tf.equal(tf.argmax(pred,1),tf.argmax(Y,1))\n",
    "            accuracy=tf.reduce_mean(tf.cast(correct_pred,\"float\"))\n",
    "            if i%10==0:\n",
    "                print(\"iteration:  \",i,\" training acc: \",accuracy.eval({X:x_train[start:end],Y:y_train[start:end]}))\n",
    "            \n",
    "            sess.run(train_op,feed_dict={X:x_train[start:end],Y:y_train[start:end]})\n",
    "            start+=batch_size\n",
    "            end+=batch_size\n",
    "        pred=tf.nn.softmax(h_fc2)\n",
    "        correct_pred=tf.equal(tf.argmax(pred,1),tf.argmax(Y,1))\n",
    "        accuracy=tf.reduce_mean(tf.cast(correct_pred,\"float\"))\n",
    "        print(\"validation_acc: \",accuracy.eval({X:x_val,Y:y_val}))\n",
    "    pred=tf.nn.softmax(h_fc2)\n",
    "    correct_pred=tf.equal(tf.argmax(pred,1),tf.argmax(Y,1))\n",
    "    accuracy=tf.reduce_mean(tf.cast(correct_pred,\"float\"))\n",
    "    print(\"Test accuracy: \",accuracy.eval({X:x_test,Y:y_test}))"
   ]
  },
  {
   "cell_type": "code",
   "execution_count": 62,
   "metadata": {},
   "outputs": [],
   "source": [
    "\n",
    "    "
   ]
  },
  {
   "cell_type": "code",
   "execution_count": 47,
   "metadata": {},
   "outputs": [],
   "source": []
  },
  {
   "cell_type": "code",
   "execution_count": null,
   "metadata": {},
   "outputs": [],
   "source": []
  },
  {
   "cell_type": "code",
   "execution_count": null,
   "metadata": {},
   "outputs": [],
   "source": []
  }
 ],
 "metadata": {
  "kernelspec": {
   "display_name": "Python 3",
   "language": "python",
   "name": "python3"
  },
  "language_info": {
   "codemirror_mode": {
    "name": "ipython",
    "version": 3
   },
   "file_extension": ".py",
   "mimetype": "text/x-python",
   "name": "python",
   "nbconvert_exporter": "python",
   "pygments_lexer": "ipython3",
   "version": "3.6.5"
  }
 },
 "nbformat": 4,
 "nbformat_minor": 2
}
